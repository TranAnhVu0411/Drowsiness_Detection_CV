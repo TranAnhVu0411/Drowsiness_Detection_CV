{
  "metadata": {
    "kernelspec": {
      "language": "python",
      "display_name": "Python 3",
      "name": "python3"
    },
    "language_info": {
      "name": "python",
      "version": "3.10.12",
      "mimetype": "text/x-python",
      "codemirror_mode": {
        "name": "ipython",
        "version": 3
      },
      "pygments_lexer": "ipython3",
      "nbconvert_exporter": "python",
      "file_extension": ".py"
    },
    "colab": {
      "provenance": []
    }
  },
  "nbformat_minor": 0,
  "nbformat": 4,
  "cells": [
    {
      "cell_type": "code",
      "source": [
        "import torch\n",
        "from torch.utils.data import Dataset,DataLoader\n",
        "from torchvision import transforms\n",
        "from PIL import Image\n",
        "import matplotlib.pyplot as plt\n",
        "import torch.nn as nn\n",
        "import torch.nn.functional as F\n",
        "import time\n",
        "import os\n",
        "import cv2\n",
        "from tqdm import tqdm\n",
        "import json\n",
        "import torchvision.models as models\n",
        "\n",
        "import warnings\n",
        "warnings.filterwarnings(action='ignore')"
      ],
      "metadata": {
        "execution": {
          "iopub.status.busy": "2023-09-25T15:20:37.390081Z",
          "iopub.execute_input": "2023-09-25T15:20:37.390382Z",
          "iopub.status.idle": "2023-09-25T15:20:42.367552Z",
          "shell.execute_reply.started": "2023-09-25T15:20:37.390355Z",
          "shell.execute_reply": "2023-09-25T15:20:42.366594Z"
        },
        "trusted": true,
        "id": "rSBRncQxJ1Oj"
      },
      "execution_count": null,
      "outputs": []
    },
    {
      "cell_type": "code",
      "source": [
        "class MetaDataSet(Dataset):\n",
        "    def __init__(self,meta_data,root,train = True):\n",
        "        super().__init__()\n",
        "\n",
        "        with open(meta_data,'r') as f:\n",
        "            meta_data = json.load(f)\n",
        "        if train:\n",
        "            del meta_data['fold1']\n",
        "            self.data = meta_data\n",
        "        else:\n",
        "            self.data = {}\n",
        "            self.data['fold1'] = meta_data['fold1']\n",
        "\n",
        "        self.input_file = []\n",
        "        self.root = root\n",
        "\n",
        "        for _,val in self.data.items():\n",
        "            self.input_file.extend(val['not drowsiness'])\n",
        "            self.input_file.extend(val['drowsiness'])\n",
        "\n",
        "        self.transform = transforms.Compose([\n",
        "                            transforms.Resize(size = (224,224)),\n",
        "                            transforms.ToTensor(),\n",
        "                            transforms.Normalize([0.485, 0.456, 0.406], [0.229, 0.224, 0.225])\n",
        "                         ])\n",
        "\n",
        "\n",
        "    def __len__(self):\n",
        "        return len(self.input_file)\n",
        "\n",
        "    def __getitem__(self,index):\n",
        "        video_name = self.input_file[index]\n",
        "        if 'd' in video_name:\n",
        "            video_path = os.path.join(os.path.join(self.root , 'drowsiness'),video_name)\n",
        "        else:\n",
        "            video_path = os.path.join(os.path.join(self.root , 'not drowsiness'),video_name)\n",
        "\n",
        "        label = 0 if 'not drowsiness' in video_path else 1\n",
        "        frames_list = []\n",
        "        cap = cv2.VideoCapture(video_path)\n",
        "        start_time = time.time()\n",
        "        fps = round(cap.get(cv2.CAP_PROP_FPS))\n",
        "        curr_frame = 0\n",
        "        while cap.isOpened():\n",
        "            ret,frame = cap.read()\n",
        "            if not ret:\n",
        "                break\n",
        "\n",
        "            if curr_frame % fps == 0:\n",
        "                frame = Image.fromarray(frame)\n",
        "                frames_list.append(self.transform(frame))\n",
        "                start_time = time.time()\n",
        "            curr_frame += 1\n",
        "\n",
        "        frames_list = torch.stack(frames_list)\n",
        "\n",
        "        return frames_list,label\n",
        "\n",
        "def collate_fn(batch):\n",
        "    label = [d[1] for d in batch]\n",
        "\n",
        "    batch = [torch.concatenate([d,torch.zeros(10-d.shape[0],d.shape[1],d.shape[2],d.shape[3])],dim=0)\n",
        "                        if d.shape[0] < 10 else d[:10] for d,label in batch]\n",
        "\n",
        "    return torch.stack(batch),torch.tensor(label)\n",
        "\n",
        "NUM_WORKERS = os.cpu_count()\n",
        "\n",
        "metadata_path = '/kaggle/input/sust-ddd-metadata/dataset_metadata.json'\n",
        "root_path = '/kaggle/input/sust-ddd/SUST Driver Drowsiness Dataset'\n",
        "\n",
        "train_data = MetaDataSet(metadata_path,root_path,train = True)\n",
        "test_data = MetaDataSet(metadata_path,root_path, train = False)\n",
        "\n",
        "train_loader = DataLoader(train_data,batch_size = 16,shuffle = True,num_workers=NUM_WORKERS,collate_fn = collate_fn)\n",
        "test_loader = DataLoader(test_data,batch_size = 16,shuffle = True,num_workers=NUM_WORKERS,collate_fn = collate_fn)"
      ],
      "metadata": {
        "execution": {
          "iopub.status.busy": "2023-09-25T15:21:07.729683Z",
          "iopub.execute_input": "2023-09-25T15:21:07.730349Z",
          "iopub.status.idle": "2023-09-25T15:21:07.775620Z",
          "shell.execute_reply.started": "2023-09-25T15:21:07.730300Z",
          "shell.execute_reply": "2023-09-25T15:21:07.774209Z"
        },
        "trusted": true,
        "id": "X51BkwvBJ1Om"
      },
      "execution_count": null,
      "outputs": []
    },
    {
      "cell_type": "code",
      "source": [
        "class LastLayer(nn.Module):\n",
        "    def __init__(self,in_feature,hidden_feature,output_feature,num_layers):\n",
        "        super(LastLayer, self).__init__()\n",
        "        self.ln1 = nn.Linear(in_feature,hidden_feature)\n",
        "        self.bn = nn.BatchNorm1d(hidden_feature)\n",
        "        self.ln2 = nn.ModuleList([nn.Linear(hidden_feature,hidden_feature) for _ in range(num_layers)])\n",
        "        self.bn2 = nn.ModuleList([nn.BatchNorm1d(hidden_feature) for _ in range(num_layers)])\n",
        "\n",
        "        self.ln3 = nn.Linear(hidden_feature,output_feature)\n",
        "\n",
        "\n",
        "    def forward(self, x):\n",
        "\n",
        "        x = F.relu(self.bn(self.ln1(x)))\n",
        "        for ln,bn in zip(self.ln2,self.bn2):\n",
        "             x = F.relu(bn(ln(x)))\n",
        "        return self.ln3(x)\n",
        "\n",
        "class MyBaseLine(nn.Module):\n",
        "    def __init__(self,effnet_hidden,effnet_out,lstm_out,n_lstm_layers,freeze = True):\n",
        "        super().__init__()\n",
        "        self.effnet = torch.hub.load('NVIDIA/DeepLearningExamples:torchhub', 'nvidia_efficientnet_b0', pretrained=True)\n",
        "        self.effnet.classifier.fc = LastLayer(1280,effnet_hidden,effnet_out,1)\n",
        "        if freeze:\n",
        "            for name,param in self.effnet.named_parameters():\n",
        "                if 'fc' not in name:\n",
        "                    param.requires_grad = False\n",
        "        self.lstm = nn.LSTM(effnet_out,lstm_out,n_lstm_layers,batch_first = True)\n",
        "        self.last_layer = nn.Linear(lstm_out,1)\n",
        "        self.lstm_out = lstm_out\n",
        "        self.n_lstm_layers = n_lstm_layers\n",
        "        self.sigmoid = nn.Sigmoid()\n",
        "\n",
        "    def forward(self,batch):\n",
        "        \"\"\"\n",
        "        batch : [Batch_size,num_frames,512]\n",
        "        \"\"\"\n",
        "        b,n,c,h,w = batch.size()\n",
        "        batch_ = batch.reshape(-1,c,h,w)\n",
        "        frame_embedded = self.effnet(batch_).reshape(b,n,-1)\n",
        "\n",
        "        h0 = torch.randn(self.n_lstm_layers,b,self.lstm_out).to('cuda')\n",
        "        c0 = torch.randn(self.n_lstm_layers,b,self.lstm_out).to('cuda')\n",
        "\n",
        "        output,_ = self.lstm(frame_embedded ,(h0,c0))\n",
        "        return self.sigmoid(self.last_layer(output[:,-1,:]))"
      ],
      "metadata": {
        "execution": {
          "iopub.status.busy": "2023-09-25T15:21:53.055317Z",
          "iopub.execute_input": "2023-09-25T15:21:53.055761Z",
          "iopub.status.idle": "2023-09-25T15:21:53.079877Z",
          "shell.execute_reply.started": "2023-09-25T15:21:53.055724Z",
          "shell.execute_reply": "2023-09-25T15:21:53.078323Z"
        },
        "trusted": true,
        "id": "z1sr_SHWJ1On"
      },
      "execution_count": null,
      "outputs": []
    },
    {
      "cell_type": "code",
      "source": [
        "from torch.optim import lr_scheduler\n",
        "\n",
        "# initializing hyperparameters and model\n",
        "model = MyBaseLine(256,128,64,2).to('cuda')\n",
        "optimizer = torch.optim.Adam(model.parameters(),lr = 0.01)\n",
        "step_size = 1\n",
        "gamma = 0.8\n",
        "scheduler = lr_scheduler.ExponentialLR(optimizer,gamma=gamma)\n",
        "criterion = nn.BCELoss()\n",
        "num_epochs = 5\n",
        "threshhold = 0.5"
      ],
      "metadata": {
        "execution": {
          "iopub.status.busy": "2023-09-17T16:04:19.552574Z",
          "iopub.execute_input": "2023-09-17T16:04:19.552946Z",
          "iopub.status.idle": "2023-09-17T16:04:35.735609Z",
          "shell.execute_reply.started": "2023-09-17T16:04:19.552918Z",
          "shell.execute_reply": "2023-09-17T16:04:35.734639Z"
        },
        "trusted": true,
        "id": "kNk8ackLJ1Oo",
        "outputId": "89cdf196-fd83-4dc3-87aa-419e0a053fc8"
      },
      "execution_count": null,
      "outputs": [
        {
          "name": "stderr",
          "text": "Downloading: \"https://github.com/NVIDIA/DeepLearningExamples/zipball/torchhub\" to /root/.cache/torch/hub/torchhub.zip\nDownloading: \"https://api.ngc.nvidia.com/v2/models/nvidia/efficientnet_b0_pyt_amp/versions/20.12.0/files/nvidia_efficientnet-b0_210412.pth\" to /root/.cache/torch/hub/checkpoints/nvidia_efficientnet-b0_210412.pth\n100%|██████████| 20.5M/20.5M [00:01<00:00, 11.7MB/s]\n",
          "output_type": "stream"
        }
      ]
    },
    {
      "cell_type": "code",
      "source": [
        "# training loop\n",
        "for epoch in range(num_epochs):\n",
        "    correct = 0\n",
        "    losses = 0\n",
        "    for batch_idx,(data, label) in enumerate(train_loader):\n",
        "\n",
        "\n",
        "        data = data.to('cuda');label = label.to('cuda')\n",
        "        output = model(data)\n",
        "        output = output.squeeze()\n",
        "        loss = criterion(output,label.float())\n",
        "\n",
        "        optimizer.zero_grad()\n",
        "        loss.backward()\n",
        "        optimizer.step()\n",
        "\n",
        "        predict = torch.where(output < threshhold , 0 ,1)\n",
        "        correct += torch.sum(predict == label)\n",
        "        losses += loss\n",
        "\n",
        "        if batch_idx % 20 == 0:\n",
        "            print(f'Epoch:{epoch} Iteration {batch_idx} Batch_loss {loss} Correct {correct.detach().cpu().numpy()}/{(batch_idx+1)*16}')\n",
        "\n",
        "    print(f'Epoch {epoch} Loss:{losses / len(train_loader)} Acc :{correct/len(train_data)} Lr {optimizer.param_groups[0][\"lr\"]}')\n",
        "\n",
        "    scheduler.step()"
      ],
      "metadata": {
        "execution": {
          "iopub.status.busy": "2023-09-16T15:19:54.989281Z",
          "iopub.execute_input": "2023-09-16T15:19:54.989703Z",
          "iopub.status.idle": "2023-09-16T17:55:45.298548Z",
          "shell.execute_reply.started": "2023-09-16T15:19:54.989661Z",
          "shell.execute_reply": "2023-09-16T17:55:45.297413Z"
        },
        "trusted": true,
        "id": "FIFyu931J1Oq",
        "outputId": "d55a00a1-1f51-4996-aa6f-22a551123107"
      },
      "execution_count": null,
      "outputs": [
        {
          "name": "stdout",
          "text": "Epoch:0 Iteration 0 Batch_loss 0.9384225010871887 Correct 6/16\nEpoch:0 Iteration 20 Batch_loss 0.7328321933746338 Correct 211/336\nEpoch:0 Iteration 40 Batch_loss 0.7535889148712158 Correct 437/656\nEpoch:0 Iteration 60 Batch_loss 0.6801105737686157 Correct 682/976\nEpoch:0 Iteration 80 Batch_loss 0.6341782212257385 Correct 916/1296\nEpoch 0 Loss:0.599799633026123 Acc :0.7116689682006836 Lr 0.01\nEpoch:1 Iteration 0 Batch_loss 0.599800705909729 Correct 11/16\nEpoch:1 Iteration 20 Batch_loss 0.5166108012199402 Correct 256/336\nEpoch:1 Iteration 40 Batch_loss 0.5287588834762573 Correct 498/656\nEpoch:1 Iteration 60 Batch_loss 0.42719829082489014 Correct 747/976\nEpoch:1 Iteration 80 Batch_loss 0.5140278339385986 Correct 998/1296\nEpoch 1 Loss:0.5410188436508179 Acc :0.7571234703063965 Lr 0.008\nEpoch:2 Iteration 0 Batch_loss 0.44320017099380493 Correct 13/16\nEpoch:2 Iteration 20 Batch_loss 0.43747425079345703 Correct 256/336\nEpoch:2 Iteration 40 Batch_loss 0.6022679805755615 Correct 509/656\nEpoch:2 Iteration 60 Batch_loss 0.6627851724624634 Correct 749/976\nEpoch:2 Iteration 80 Batch_loss 0.47415173053741455 Correct 998/1296\nEpoch 2 Loss:0.5128066539764404 Acc :0.7700135707855225 Lr 0.0064\nEpoch:3 Iteration 0 Batch_loss 0.28976190090179443 Correct 15/16\nEpoch:3 Iteration 20 Batch_loss 0.6510492563247681 Correct 273/336\nEpoch:3 Iteration 40 Batch_loss 0.5470277070999146 Correct 530/656\nEpoch:3 Iteration 60 Batch_loss 0.36739787459373474 Correct 789/976\nEpoch:3 Iteration 80 Batch_loss 0.5240142345428467 Correct 1040/1296\nEpoch 3 Loss:0.4764214754104614 Acc :0.7978290319442749 Lr 0.00512\nEpoch:4 Iteration 0 Batch_loss 0.5096873044967651 Correct 12/16\nEpoch:4 Iteration 20 Batch_loss 0.35577380657196045 Correct 273/336\nEpoch:4 Iteration 40 Batch_loss 0.38823217153549194 Correct 532/656\nEpoch:4 Iteration 60 Batch_loss 0.467574805021286 Correct 788/976\nEpoch:4 Iteration 80 Batch_loss 0.6592530012130737 Correct 1026/1296\nEpoch 4 Loss:0.47326910495758057 Acc :0.7944369316101074 Lr 0.004096000000000001\n",
          "output_type": "stream"
        }
      ]
    },
    {
      "cell_type": "code",
      "source": [
        "def check_accuracy(test_loader, model):\n",
        "    num_samples = 0\n",
        "    num_corrects = 0\n",
        "    model.eval()\n",
        "\n",
        "    with torch.no_grad():\n",
        "        for batch_idx, (data, targets) in enumerate(test_loader):\n",
        "            data = data.to('cuda')\n",
        "            targets = targets.to('cuda')\n",
        "\n",
        "            outputs = model(data).squeeze()\n",
        "\n",
        "            predictions = torch.where(outputs < threshhold , 0 ,1)\n",
        "\n",
        "            num_corrects  += (predictions==targets).sum()\n",
        "            num_samples += predictions.size(0)\n",
        "            if batch_idx % 20 == 0:\n",
        "                print(f\"Test Iteration {batch_idx} Acc {num_corrects/num_samples * 100 :.2f}\")\n",
        "    # accuracy\n",
        "    return num_corrects/num_samples\n",
        "\n",
        "accuracy_score = check_accuracy(test_loader, model)\n",
        "print(f'Accuracy score: {accuracy_score.item()}')"
      ],
      "metadata": {
        "execution": {
          "iopub.status.busy": "2023-09-16T17:56:00.939310Z",
          "iopub.execute_input": "2023-09-16T17:56:00.939705Z",
          "iopub.status.idle": "2023-09-16T18:07:43.085209Z",
          "shell.execute_reply.started": "2023-09-16T17:56:00.939671Z",
          "shell.execute_reply": "2023-09-16T18:07:43.083851Z"
        },
        "trusted": true,
        "id": "0PcQL_hTJ1Or",
        "outputId": "5419d1e4-0aab-41b7-98a5-a501c617703d"
      },
      "execution_count": null,
      "outputs": [
        {
          "name": "stdout",
          "text": "Test Iteration 0 Acc 50.00\nTest Iteration 20 Acc 54.76\nAccuracy score: 0.550000011920929\n",
          "output_type": "stream"
        }
      ]
    },
    {
      "cell_type": "code",
      "source": [
        "def create_dir(dir):\n",
        "    if not os.path.exists(dir):\n",
        "        os.makedirs(dir)\n",
        "savedir = '/kaggle/working/weights'\n",
        "create_dir(savedir)\n",
        "\n",
        "PATH = 'weights/model_weights_no_dropout.pth'\n",
        "torch.save(model.state_dict(), PATH)\n"
      ],
      "metadata": {
        "execution": {
          "iopub.status.busy": "2023-09-16T18:20:21.188594Z",
          "iopub.execute_input": "2023-09-16T18:20:21.188975Z",
          "iopub.status.idle": "2023-09-16T18:20:21.506050Z",
          "shell.execute_reply.started": "2023-09-16T18:20:21.188945Z",
          "shell.execute_reply": "2023-09-16T18:20:21.505125Z"
        },
        "trusted": true,
        "id": "Cb-N5rcQJ1Or",
        "outputId": "ec8715e5-9739-4ae6-a81d-cd23c0713217"
      },
      "execution_count": null,
      "outputs": [
        {
          "name": "stderr",
          "text": "Using cache found in /root/.cache/torch/hub/NVIDIA_DeepLearningExamples_torchhub\n",
          "output_type": "stream"
        },
        {
          "execution_count": 10,
          "output_type": "execute_result",
          "data": {
            "text/plain": "<All keys matched successfully>"
          },
          "metadata": {}
        }
      ]
    },
    {
      "cell_type": "code",
      "source": [
        "def y_true_y_pred(test_loader, model, threshold=0.5):\n",
        "    y_true = []\n",
        "    y_pred = []\n",
        "\n",
        "    model.eval()\n",
        "    with torch.no_grad():\n",
        "        for batch_idx, (data, targets) in enumerate(test_loader):\n",
        "            data = data.to('cuda')\n",
        "            targets = targets.to('cuda')\n",
        "\n",
        "            outputs = model(data).squeeze()\n",
        "\n",
        "            predictions = torch.where(outputs < threshold , 0 ,1)\n",
        "\n",
        "            y_true.extend(targets.detach().cpu().numpy())\n",
        "            y_pred.extend(predictions.detach().cpu().numpy())\n",
        "\n",
        "\n",
        "    return y_true, y_pred"
      ],
      "metadata": {
        "execution": {
          "iopub.status.busy": "2023-09-25T15:31:13.902559Z",
          "iopub.execute_input": "2023-09-25T15:31:13.903001Z",
          "iopub.status.idle": "2023-09-25T15:31:13.911023Z",
          "shell.execute_reply.started": "2023-09-25T15:31:13.902967Z",
          "shell.execute_reply": "2023-09-25T15:31:13.909792Z"
        },
        "trusted": true,
        "id": "yLyf132hJ1Or"
      },
      "execution_count": null,
      "outputs": []
    },
    {
      "cell_type": "code",
      "source": [
        "# load\n",
        "PATH = '/kaggle/input/weights/model_weights_no_dropout.pth'\n",
        "model = MyBaseLine(256,128,64,2).to('cuda')\n",
        "model.load_state_dict(torch.load(PATH))"
      ],
      "metadata": {
        "execution": {
          "iopub.status.busy": "2023-09-25T15:25:39.604601Z",
          "iopub.execute_input": "2023-09-25T15:25:39.605100Z",
          "iopub.status.idle": "2023-09-25T15:25:39.878593Z",
          "shell.execute_reply.started": "2023-09-25T15:25:39.605063Z",
          "shell.execute_reply": "2023-09-25T15:25:39.877675Z"
        },
        "trusted": true,
        "id": "cOyrCaNWJ1Os",
        "outputId": "00c4eabb-56b1-425a-eed9-6a2f178e6fc8"
      },
      "execution_count": null,
      "outputs": [
        {
          "name": "stderr",
          "text": "Using cache found in /root/.cache/torch/hub/NVIDIA_DeepLearningExamples_torchhub\n",
          "output_type": "stream"
        },
        {
          "execution_count": 6,
          "output_type": "execute_result",
          "data": {
            "text/plain": "<All keys matched successfully>"
          },
          "metadata": {}
        }
      ]
    },
    {
      "cell_type": "code",
      "source": [
        "import time\n",
        "\n",
        "start = time.time()\n",
        "y_true, y_pred = y_true_y_pred(test_loader, model)\n",
        "end = time.time()\n",
        "\n",
        "print(f'Time elapsed: {end-start}')"
      ],
      "metadata": {
        "execution": {
          "iopub.status.busy": "2023-09-25T15:31:15.915921Z",
          "iopub.execute_input": "2023-09-25T15:31:15.916293Z",
          "iopub.status.idle": "2023-09-25T15:43:04.085484Z",
          "shell.execute_reply.started": "2023-09-25T15:31:15.916262Z",
          "shell.execute_reply": "2023-09-25T15:43:04.083601Z"
        },
        "trusted": true,
        "id": "iwuadbEpJ1Os",
        "outputId": "b86a5530-92a5-460e-ce71-3b684cdabc90"
      },
      "execution_count": null,
      "outputs": [
        {
          "name": "stdout",
          "text": "Time elapsed: 708.1622111797333\n",
          "output_type": "stream"
        }
      ]
    },
    {
      "cell_type": "code",
      "source": [
        "from sklearn.metrics import classification_report, accuracy_score, confusion_matrix, precision_recall_fscore_support"
      ],
      "metadata": {
        "execution": {
          "iopub.status.busy": "2023-09-17T16:17:04.523490Z",
          "iopub.execute_input": "2023-09-17T16:17:04.523870Z",
          "iopub.status.idle": "2023-09-17T16:17:04.981672Z",
          "shell.execute_reply.started": "2023-09-17T16:17:04.523832Z",
          "shell.execute_reply": "2023-09-17T16:17:04.980608Z"
        },
        "trusted": true,
        "id": "Xsuh9wdBJ1Ot"
      },
      "execution_count": null,
      "outputs": []
    },
    {
      "cell_type": "code",
      "source": [
        "print(classification_report(y_true, y_pred))"
      ],
      "metadata": {
        "execution": {
          "iopub.status.busy": "2023-09-17T09:47:03.932392Z",
          "iopub.execute_input": "2023-09-17T09:47:03.932801Z",
          "iopub.status.idle": "2023-09-17T09:47:03.950488Z",
          "shell.execute_reply.started": "2023-09-17T09:47:03.932770Z",
          "shell.execute_reply": "2023-09-17T09:47:03.949401Z"
        },
        "trusted": true,
        "id": "0yIS0CKyJ1Ot",
        "outputId": "75c8be29-e716-48c8-d10d-cd4967f51891"
      },
      "execution_count": null,
      "outputs": [
        {
          "name": "stdout",
          "text": "              precision    recall  f1-score   support\n\n           0       0.56      0.79      0.65       317\n           1       0.56      0.30      0.39       283\n\n    accuracy                           0.56       600\n   macro avg       0.56      0.54      0.52       600\nweighted avg       0.56      0.56      0.53       600\n\n",
          "output_type": "stream"
        }
      ]
    },
    {
      "cell_type": "code",
      "source": [
        "accuracy_score(y_true, y_pred)"
      ],
      "metadata": {
        "execution": {
          "iopub.status.busy": "2023-09-17T09:47:14.881430Z",
          "iopub.execute_input": "2023-09-17T09:47:14.881806Z",
          "iopub.status.idle": "2023-09-17T09:47:14.891494Z",
          "shell.execute_reply.started": "2023-09-17T09:47:14.881776Z",
          "shell.execute_reply": "2023-09-17T09:47:14.890542Z"
        },
        "trusted": true,
        "id": "Ef5vHxy2J1Ou",
        "outputId": "367250e9-dbc1-45ed-9f3f-b12bf74a9d62"
      },
      "execution_count": null,
      "outputs": [
        {
          "execution_count": 10,
          "output_type": "execute_result",
          "data": {
            "text/plain": "0.5583333333333333"
          },
          "metadata": {}
        }
      ]
    },
    {
      "cell_type": "code",
      "source": [
        "confusion_matrix(y_true, y_pred)"
      ],
      "metadata": {
        "execution": {
          "iopub.status.busy": "2023-09-17T09:47:16.914690Z",
          "iopub.execute_input": "2023-09-17T09:47:16.915417Z",
          "iopub.status.idle": "2023-09-17T09:47:16.927111Z",
          "shell.execute_reply.started": "2023-09-17T09:47:16.915383Z",
          "shell.execute_reply": "2023-09-17T09:47:16.925380Z"
        },
        "trusted": true,
        "id": "6Ll4iE55J1Ou",
        "outputId": "40d17b54-6a97-4b13-fae0-a3bb795930ca"
      },
      "execution_count": null,
      "outputs": [
        {
          "execution_count": 11,
          "output_type": "execute_result",
          "data": {
            "text/plain": "array([[250,  67],\n       [198,  85]])"
          },
          "metadata": {}
        }
      ]
    },
    {
      "cell_type": "code",
      "source": [
        "from sklearn.metrics import ConfusionMatrixDisplay\n",
        "\n",
        "cf = confusion_matrix(y_true, y_pred)\n",
        "\n",
        "disp = ConfusionMatrixDisplay(confusion_matrix=cf)\n",
        "disp.plot()\n",
        "\n",
        "plt.savefig('confusion_matrix.png')\n",
        "plt.show()"
      ],
      "metadata": {
        "execution": {
          "iopub.status.busy": "2023-09-17T10:27:59.121949Z",
          "iopub.execute_input": "2023-09-17T10:27:59.122395Z",
          "iopub.status.idle": "2023-09-17T10:27:59.606554Z",
          "shell.execute_reply.started": "2023-09-17T10:27:59.122356Z",
          "shell.execute_reply": "2023-09-17T10:27:59.605653Z"
        },
        "trusted": true,
        "id": "q0JtO0SFJ1Ov",
        "outputId": "c778126e-6683-49bc-d97c-74f58d63eafa"
      },
      "execution_count": null,
      "outputs": [
        {
          "output_type": "display_data",
          "data": {
            "text/plain": "<Figure size 640x480 with 2 Axes>",
            "image/png": "[encoded data removed]"
          },
          "metadata": {}
        }
      ]
    },
    {
      "cell_type": "code",
      "source": [
        "precision, recall, f1, _  = precision_recall_fscore_support(y_true, y_pred)\n",
        "\n",
        "print(f'Precision: {precision}')\n",
        "print(f'Recall: {recall}')\n",
        "print(f'F1 score: {f1}')"
      ],
      "metadata": {
        "execution": {
          "iopub.status.busy": "2023-09-17T16:17:04.983200Z",
          "iopub.execute_input": "2023-09-17T16:17:04.983550Z",
          "iopub.status.idle": "2023-09-17T16:17:04.997326Z",
          "shell.execute_reply.started": "2023-09-17T16:17:04.983519Z",
          "shell.execute_reply": "2023-09-17T16:17:04.996032Z"
        },
        "trusted": true,
        "id": "AmMs39cJJ1Ov",
        "outputId": "30e56252-8b95-47a5-d9b7-6778ea5f4a54"
      },
      "execution_count": null,
      "outputs": [
        {
          "name": "stdout",
          "text": "Precision: [0.55555556 0.55333333]\nRecall: [0.78864353 0.29328622]\nF1 score: [0.65189048 0.38337182]\n",
          "output_type": "stream"
        }
      ]
    }
  ]
}